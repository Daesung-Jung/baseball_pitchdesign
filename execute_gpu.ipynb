{
  "nbformat": 4,
  "nbformat_minor": 0,
  "metadata": {
    "colab": {
      "name": "execute_gpu.ipynb",
      "private_outputs": true,
      "provenance": [],
      "collapsed_sections": [],
      "machine_shape": "hm",
      "include_colab_link": true
    },
    "kernelspec": {
      "name": "python3",
      "display_name": "Python 3"
    },
    "language_info": {
      "name": "python"
    },
    "accelerator": "GPU"
  },
  "cells": [
    {
      "cell_type": "markdown",
      "metadata": {
        "id": "view-in-github",
        "colab_type": "text"
      },
      "source": [
        "<a href=\"https://colab.research.google.com/github/Daesung-Jung/baseball_pitchdesign/blob/main/execute_gpu.ipynb\" target=\"_parent\"><img src=\"https://colab.research.google.com/assets/colab-badge.svg\" alt=\"Open In Colab\"/></a>"
      ]
    },
    {
      "cell_type": "markdown",
      "metadata": {
        "id": "T78JaokPA-jV"
      },
      "source": [
        "#1. 환경설정 확인\n",
        ">  GPU 확인, \n",
        "깃허브 private clone "
      ]
    },
    {
      "cell_type": "code",
      "metadata": {
        "id": "BPpixvtVjpkY"
      },
      "source": [
        "#코랩 GPU 확인\n",
        "gpu_info = !nvidia-smi\n",
        "gpu_info = '\\n'.join(gpu_info)\n",
        "if gpu_info.find('failed') >= 0:\n",
        "  print('Select the Runtime > \"Change runtime type\" menu to enable a GPU accelerator, ')\n",
        "  print('and then re-execute this cell.')\n",
        "else:\n",
        "  print(gpu_info)\n",
        "\n",
        " # 추가 메모리 확인 \n",
        "from psutil import virtual_memory\n",
        "ram_gb = virtual_memory().total / 1e9\n",
        "print('Your runtime has {:.1f} gigabytes of available RAM\\n'.format(ram_gb))\n",
        "\n",
        "if ram_gb < 20:\n",
        "  print('To enable a high-RAM runtime, select the Runtime > \"Change runtime type\"')\n",
        "  print('menu, and then select High-RAM in the Runtime shape dropdown. Then, ')\n",
        "  print('re-execute this cell.')\n",
        "else:\n",
        "  print('You are using a high-RAM runtime!') "
      ],
      "execution_count": null,
      "outputs": []
    },
    {
      "cell_type": "code",
      "metadata": {
        "id": "WZ56oDYe7mBJ"
      },
      "source": [
        "#import torch\n",
        "#torch.cuda.empty_cache()"
      ],
      "execution_count": null,
      "outputs": []
    },
    {
      "cell_type": "code",
      "metadata": {
        "id": "zaBB7rF8j0TC"
      },
      "source": [
        "!ssh-keygen -t rsa -b 4096 -C \"shtnrgudsla@naver.com\""
      ],
      "execution_count": null,
      "outputs": []
    },
    {
      "cell_type": "code",
      "metadata": {
        "id": "6Em8O8HTMajY"
      },
      "source": [
        "!ssh-keyscan -t rsa github.com >> ~/.ssh/known_hosts"
      ],
      "execution_count": null,
      "outputs": []
    },
    {
      "cell_type": "markdown",
      "metadata": {
        "id": "GUK4b0JZPHmm"
      },
      "source": [
        "> 아래 나오는 키 복사해서 깃허브 계정 내 SSH~ 어쩌고 내용에 저장. title은 암거나."
      ]
    },
    {
      "cell_type": "code",
      "metadata": {
        "id": "LtYbVNenOLCy"
      },
      "source": [
        "!cat /root/.ssh/id_rsa.pub"
      ],
      "execution_count": null,
      "outputs": []
    },
    {
      "cell_type": "code",
      "metadata": {
        "id": "6CoYOWRyONIi"
      },
      "source": [
        "!ssh -T git@github.com\n",
        "\n",
        "!git config --global user.email \"shtnrgudsla@naver.com\"\n",
        "!git config --global user.name \"d!\"\n",
        "\n"
      ],
      "execution_count": null,
      "outputs": []
    },
    {
      "cell_type": "markdown",
      "metadata": {
        "id": "qSyUeZ6CPi65"
      },
      "source": [
        "# 2. git clone "
      ]
    },
    {
      "cell_type": "code",
      "metadata": {
        "id": "qdsiQjnVATkP"
      },
      "source": [
        "from google.colab import drive\n",
        "drive.mount('/content/drive')\n",
        "%cd /content/drive/MyDrive/\n",
        "# 주소대신 ssh copy \n",
        "!git clone git@github.com:Daesung-Jung/baseball_pitchdesign.git\n",
        "# 존재한다면 최신화\n",
        "%cd /content/drive/MyDrive/baseball_pitchdesign/\n",
        "!git pull\n",
        "#필요한 패키지 설치\n",
        "%cd /content/drive/MyDrive/baseball_pitchdesign/\n",
        "!pip install -r requirements.txt"
      ],
      "execution_count": null,
      "outputs": []
    },
    {
      "cell_type": "markdown",
      "metadata": {
        "id": "I0VeRDbPyu6Z"
      },
      "source": [
        ""
      ]
    },
    {
      "cell_type": "code",
      "metadata": {
        "id": "8TWQua8vBzZv"
      },
      "source": [
        "import yaml\n",
        "%cd /\n",
        "from glob import glob\n",
        "\n",
        "img_list = glob('/content/drive/MyDrive/baseball_pitchdesign/images/*.jpg')\n",
        "lab_list = glob('/content/drive/MyDrive/baseball_pitchdesign/labels/*.txt')\n",
        "\n",
        "print(len(img_list))\n",
        "print(len(lab_list))"
      ],
      "execution_count": null,
      "outputs": []
    },
    {
      "cell_type": "code",
      "metadata": {
        "id": "PnFgfq-OmPIR"
      },
      "source": [
        "from sklearn.model_selection import train_test_split\n",
        "\n",
        "train_img_list, val_img_list = train_test_split(img_list, test_size=0.2, random_state=2000)\n",
        "\n",
        "print(len(train_img_list), len(val_img_list))"
      ],
      "execution_count": null,
      "outputs": []
    },
    {
      "cell_type": "code",
      "metadata": {
        "id": "bW6HC3HAmTmF"
      },
      "source": [
        "with open('/content/drive/MyDrive/baseball_pitchdesign/train.txt', 'w') as f:\n",
        "  f.write('\\n'.join(train_img_list) + '\\n')\n",
        "\n",
        "with open('/content/drive/MyDrive/baseball_pitchdesign/val.txt', 'w') as f:\n",
        "  f.write('\\n'.join(val_img_list) + '\\n')"
      ],
      "execution_count": null,
      "outputs": []
    },
    {
      "cell_type": "markdown",
      "metadata": {
        "id": "r_8qNSws4xVU"
      },
      "source": [
        ""
      ]
    },
    {
      "cell_type": "code",
      "metadata": {
        "id": "xIUvbzCNmhb7"
      },
      "source": [
        "import yaml\n",
        "\n",
        "with open('/content/drive/MyDrive/baseball_pitchdesign/data.yaml', 'r') as f:\n",
        "  data = yaml.load(f)\n",
        "\n",
        "print(data)\n",
        "data['train'] = '/content/drive/MyDrive/baseball_pitchdesign/train.txt'\n",
        "data['val'] = '/content/drive/MyDrive/baseball_pitchdesign/val.txt'\n",
        "\n",
        "print(data['val'])\n",
        "with open('/content/drive/MyDrive/baseball_pitchdesign/data.yaml', 'w') as f:\n",
        "  yaml.dump(data, f)\n",
        "\n",
        "print(data)"
      ],
      "execution_count": null,
      "outputs": []
    },
    {
      "cell_type": "markdown",
      "metadata": {
        "id": "pu-q7AvZH33F"
      },
      "source": [
        "# 3. 학습하기 "
      ]
    },
    {
      "cell_type": "code",
      "metadata": {
        "id": "nNPVHoFcCVOO"
      },
      "source": [
        "%cd /content/drive/MyDrive/baseball_pitchdesign/yolov5/\n",
        "!python train.py --img 416 --batch 32 --epochs 600 --data /content/drive/MyDrive/baseball_pitchdesign/data.yaml --cfg ./models/yolov5s.yaml --weights yolov5s.pt --name elbow_bg_all_32_600"
      ],
      "execution_count": null,
      "outputs": []
    },
    {
      "cell_type": "markdown",
      "metadata": {
        "id": "gH7OUI-NIJcd"
      },
      "source": [
        "# 4. 결과 비교"
      ]
    },
    {
      "cell_type": "code",
      "metadata": {
        "id": "7bPAB6L1UHEJ"
      },
      "source": [
        "%load_ext tensorboard\n",
        "%tensorboard --logdir /content/drive/MyDrive/baseball_pitchdesign/yolov5/runs/"
      ],
      "execution_count": null,
      "outputs": []
    },
    {
      "cell_type": "markdown",
      "metadata": {
        "id": "mgIAho7jINSw"
      },
      "source": [
        "# 5. 실제 데이터 넣기\n"
      ]
    },
    {
      "cell_type": "code",
      "metadata": {
        "id": "eqW1LBmExbfx"
      },
      "source": [
        "%cd /content/drive/MyDrive/baseball_pitchdesign/yolov5/\n",
        "!python detect.py --weight /content/drive/MyDrive/baseball_pitchdesign/weight/elbow_bg_all_plus_600.pt --img 416 --conf 0.8 --source /content/drive/MyDrive/dataset/20210624NCLT02021-2.mp4 --nosave"
      ],
      "execution_count": null,
      "outputs": []
    },
    {
      "cell_type": "markdown",
      "metadata": {
        "id": "xHafjsD4dqUd"
      },
      "source": [
        "#6. GCP Storage to Colab"
      ]
    },
    {
      "cell_type": "code",
      "metadata": {
        "id": "Qcio7E3LQhC0"
      },
      "source": [
        "#접근, 인증필요함 \n",
        "from google.colab import auth\n",
        "auth.authenticate_user()\n",
        "\n",
        "\n",
        "'''\n",
        "$ gsutil list                           # 나의 버킷 리스트 보기\n",
        "$ gsutil ls -r gs://버킷이름             # 버킷 안에 들어있는 파일 확인\n",
        "$ gsutil du -s gs://버킷이름             # 버킷 용량 확인\n",
        "$ gsutil mb gs://버킷이름                # 버킷 생성\n",
        "$ gsutil rb gs://버킷이름                # 버킷 삭제\n",
        "$ gsutil cp 로컬 파일 위치 gs://버킷이름   # 로컬 -> 버킷 복사\n",
        "$ gsutil cp gs://버킷이름 로컬 파일 위치   # 버킷 -> 로컬 복사\n",
        "$ gsutil mv 로컬 파일 위치 gs://버킷이름   # 로컬 -> 버킷 이동\n",
        "$ gsutil mv gs://버킷이름 로컬 파일 위치   # 버킷 -> 로컬 이동\n",
        "$ gsutil rm gs://버킷이름/파일이름        # 파일 삭제\n",
        "$ gsutil ls -L gs://버킷이름/파일이름     # 파일 정보 보기\n",
        "'''"
      ],
      "execution_count": null,
      "outputs": []
    },
    {
      "cell_type": "code",
      "metadata": {
        "id": "CrS_k72hWqYV"
      },
      "source": [
        "#구글 클라우드 SDK 설치 \n",
        "%cd /content/drive/MyDrive/\n",
        "!curl https://sdk.cloud.google.com | bash"
      ],
      "execution_count": null,
      "outputs": []
    },
    {
      "cell_type": "code",
      "metadata": {
        "id": "qR-uiTdQSBmL"
      },
      "source": [
        "#실행\n",
        "!gcloud init"
      ],
      "execution_count": null,
      "outputs": []
    },
    {
      "cell_type": "code",
      "metadata": {
        "id": "cyc0tiXDSrYD"
      },
      "source": [
        "#Download file from Cloud Storage to Google Colab\n",
        "!gsutil cp gs://diego/2/20210414KTOB02021-1.mp4 .\n",
        "#24초 걸림 (2.6기가)\n",
        "\n",
        "\n",
        "#Upload file from Google Colab to Cloud\n",
        "#!gsutil cp 20210624NCLT02021-1.mp4 gs://diego/example/"
      ],
      "execution_count": null,
      "outputs": []
    },
    {
      "cell_type": "code",
      "metadata": {
        "id": "ISUomSsQTS3E"
      },
      "source": [
        "#GCP에서 구글 드라이브로 (45초)\n",
        "!gsutil cp gs://diego/1/20210410KTSS02021-2.mp4 /content/drive/MyDrive/20210414KTOB02021-1.mp4\n",
        "!gsutil cp gs://diego/1/20210410KTSS02021-2.mp4 /content/drive/MyDrive/20210414KTOB02021-2.mp4\n",
        "!gsutil cp gs://diego/1/20210410KTSS02021-2.mp4 /content/drive/MyDrive/20210414KTOB02021-3.mp4\n",
        "!gsutil cp gs://diego/1/20210410KTSS02021-2.mp4 /content/drive/MyDrive/20210414KTOB02021-4.mp4"
      ],
      "execution_count": null,
      "outputs": []
    },
    {
      "cell_type": "code",
      "metadata": {
        "id": "cas1-GEqZpRk"
      },
      "source": [
        "#실제 진행 \n",
        "!python /content/drive/MyDrive/baseball_pitchdesign/yolov5/detect.py --weight /content/drive/MyDrive/baseball_pitchdesign/weight/elbow_bg_all_plus_600.pt --img 416 --conf 0.9 --source 20210414KTOB02021-1.mp4 --nosave"
      ],
      "execution_count": null,
      "outputs": []
    },
    {
      "cell_type": "code",
      "metadata": {
        "id": "1YGEHyuhpsff"
      },
      "source": [
        "%cd .."
      ],
      "execution_count": null,
      "outputs": []
    },
    {
      "cell_type": "code",
      "metadata": {
        "id": "BGTWRlcqUvz0"
      },
      "source": [
        ""
      ],
      "execution_count": null,
      "outputs": []
    }
  ]
}