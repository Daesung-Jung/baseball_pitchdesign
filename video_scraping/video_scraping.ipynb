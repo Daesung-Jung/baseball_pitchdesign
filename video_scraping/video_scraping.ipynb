{
  "nbformat": 4,
  "nbformat_minor": 0,
  "metadata": {
    "colab": {
      "name": "네이버 영상 크롤링.ipynb",
      "private_outputs": true,
      "provenance": [],
      "collapsed_sections": []
    },
    "kernelspec": {
      "name": "python3",
      "display_name": "Python 3"
    },
    "language_info": {
      "name": "python"
    }
  },
  "cells": [
    {
      "cell_type": "code",
      "metadata": {
        "id": "xhXIxwWRlmCD"
      },
      "source": [
        "!pip install selenium\n",
        "!apt-get update\n",
        "!apt install chromium-chromedriver\n",
        "!pip install IPyPlot"
      ],
      "execution_count": null,
      "outputs": []
    },
    {
      "cell_type": "code",
      "metadata": {
        "id": "oaf1YhqwgxsC"
      },
      "source": [
        "from google.colab import drive\n",
        "drive.mount('/content/drive')"
      ],
      "execution_count": null,
      "outputs": []
    },
    {
      "cell_type": "code",
      "metadata": {
        "id": "v-2rUEQ8g0NM"
      },
      "source": [
        "from selenium import webdriver\n",
        "import time\n",
        "from bs4 import BeautifulSoup\n",
        "import requests\n",
        "\n",
        "chrome_options = webdriver.ChromeOptions()\n",
        "chrome_options.add_argument('--headless')\n",
        "chrome_options.add_argument('--no-sandbox')\n",
        "chrome_options.add_argument('--disable-dev-shm-usage')"
      ],
      "execution_count": null,
      "outputs": []
    },
    {
      "cell_type": "code",
      "metadata": {
        "id": "GG_OXGMIlj0p"
      },
      "source": [
        "from urllib.parse import quote_plus\n",
        "from selenium.webdriver.common.keys import Keys\n",
        "import time\n",
        "driver = webdriver.Chrome(\"chromedriver\", options=chrome_options)\n",
        "highlight_site=[]\n",
        "for i in range(3,7):\n",
        "  baseUrl = 'https://sports.daum.net/schedule/kbo?date=20210' + str(i)\n",
        "  \n",
        "  driver.get(baseUrl)\n",
        "  soup = BeautifulSoup(driver.page_source, \"html\")\n",
        "  a_list=soup.find_all('a','link_game link_highlight')\n",
        "  for href in a_list:\n",
        "    highlight_site.append('https://sports.daum.net' + href['href'])"
      ],
      "execution_count": null,
      "outputs": []
    },
    {
      "cell_type": "code",
      "metadata": {
        "id": "QfE6oO_fmb5w"
      },
      "source": [
        "full_video=[]\n",
        "for site in highlight_site:\n",
        "  driver = webdriver.Chrome(\"chromedriver\", options=chrome_options)\n",
        "  driver.get(site)\n",
        "  soup = BeautifulSoup(driver.page_source, \"html\")\n",
        "  a_list=soup.find_all('div','item_thumb')\n",
        "  for fv in a_list:\n",
        "    if fv.find('em')==None:\n",
        "      continue\n",
        "    if fv.find('em').get_text()=='풀영상':\n",
        "      full_video.append([fv.find('a','link_tit').get_text(),'https://sports.daum.net/game/80045435/highlight/vod:' + fv['data-id']])"
      ],
      "execution_count": null,
      "outputs": []
    },
    {
      "cell_type": "code",
      "metadata": {
        "id": "hXXNG0XFmBJa"
      },
      "source": [
        "from IPython.core.display import display, HTML\n",
        "\n",
        "display(HTML(driver.page_source))"
      ],
      "execution_count": null,
      "outputs": []
    },
    {
      "cell_type": "code",
      "metadata": {
        "id": "e72OfnkQqh-e"
      },
      "source": [
        "import ipyplot\n",
        "import urllib.request\n",
        "import pandas as pd\n",
        "\n",
        "url='https://b01-kr-naver-vod.pstatic.net/navertv/c/read/v2/VOD_ALPHA/navertv_2021_07_11_154/5f64b937-e241-11eb-8fc6-246e96398ca5.mp4?_lsu_sa_=6c55b3ff91f062b601de95006525e7b5ee8033e8610b0fe73c77f1cc87ed38858f217aa762b5780d10603252dd39db80029693b703f96164c61b369296ab9ce61c8663f32bad25992a94f12c1798ad93'\n",
        "urllib.request.urlretrieve(url,'./test.mp4')"
      ],
      "execution_count": null,
      "outputs": []
    }
  ]
}